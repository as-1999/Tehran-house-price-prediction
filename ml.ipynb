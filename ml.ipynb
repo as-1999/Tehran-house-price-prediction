{
 "cells": [
  {
   "cell_type": "code",
   "execution_count": 112,
   "metadata": {},
   "outputs": [],
   "source": [
    "import pandas as pd\n",
    "import numpy as np\n",
    "import matplotlib.pyplot as plt\n",
    "import seaborn as sns\n"
   ]
  },
  {
   "cell_type": "code",
   "execution_count": 162,
   "metadata": {},
   "outputs": [
    {
     "data": {
      "text/html": [
       "<div>\n",
       "<style scoped>\n",
       "    .dataframe tbody tr th:only-of-type {\n",
       "        vertical-align: middle;\n",
       "    }\n",
       "\n",
       "    .dataframe tbody tr th {\n",
       "        vertical-align: top;\n",
       "    }\n",
       "\n",
       "    .dataframe thead th {\n",
       "        text-align: right;\n",
       "    }\n",
       "</style>\n",
       "<table border=\"1\" class=\"dataframe\">\n",
       "  <thead>\n",
       "    <tr style=\"text-align: right;\">\n",
       "      <th></th>\n",
       "      <th>Area</th>\n",
       "      <th>Room</th>\n",
       "      <th>Parking</th>\n",
       "      <th>Warehouse</th>\n",
       "      <th>Elevator</th>\n",
       "      <th>Address</th>\n",
       "      <th>Price</th>\n",
       "      <th>Price(USD)</th>\n",
       "    </tr>\n",
       "  </thead>\n",
       "  <tbody>\n",
       "    <tr>\n",
       "      <th>0</th>\n",
       "      <td>63</td>\n",
       "      <td>1</td>\n",
       "      <td>True</td>\n",
       "      <td>True</td>\n",
       "      <td>True</td>\n",
       "      <td>Shahran</td>\n",
       "      <td>1.850000e+09</td>\n",
       "      <td>61666.67</td>\n",
       "    </tr>\n",
       "    <tr>\n",
       "      <th>1</th>\n",
       "      <td>60</td>\n",
       "      <td>1</td>\n",
       "      <td>True</td>\n",
       "      <td>True</td>\n",
       "      <td>True</td>\n",
       "      <td>Shahran</td>\n",
       "      <td>1.850000e+09</td>\n",
       "      <td>61666.67</td>\n",
       "    </tr>\n",
       "    <tr>\n",
       "      <th>2</th>\n",
       "      <td>79</td>\n",
       "      <td>2</td>\n",
       "      <td>True</td>\n",
       "      <td>True</td>\n",
       "      <td>True</td>\n",
       "      <td>Pardis</td>\n",
       "      <td>5.500000e+08</td>\n",
       "      <td>18333.33</td>\n",
       "    </tr>\n",
       "    <tr>\n",
       "      <th>3</th>\n",
       "      <td>95</td>\n",
       "      <td>2</td>\n",
       "      <td>True</td>\n",
       "      <td>True</td>\n",
       "      <td>True</td>\n",
       "      <td>Shahrake Qods</td>\n",
       "      <td>9.025000e+08</td>\n",
       "      <td>30083.33</td>\n",
       "    </tr>\n",
       "    <tr>\n",
       "      <th>4</th>\n",
       "      <td>123</td>\n",
       "      <td>2</td>\n",
       "      <td>True</td>\n",
       "      <td>True</td>\n",
       "      <td>True</td>\n",
       "      <td>Shahrake Gharb</td>\n",
       "      <td>7.000000e+09</td>\n",
       "      <td>233333.33</td>\n",
       "    </tr>\n",
       "  </tbody>\n",
       "</table>\n",
       "</div>"
      ],
      "text/plain": [
       "  Area  Room  Parking  Warehouse  Elevator         Address         Price  \\\n",
       "0   63     1     True       True      True         Shahran  1.850000e+09   \n",
       "1   60     1     True       True      True         Shahran  1.850000e+09   \n",
       "2   79     2     True       True      True          Pardis  5.500000e+08   \n",
       "3   95     2     True       True      True   Shahrake Qods  9.025000e+08   \n",
       "4  123     2     True       True      True  Shahrake Gharb  7.000000e+09   \n",
       "\n",
       "   Price(USD)  \n",
       "0    61666.67  \n",
       "1    61666.67  \n",
       "2    18333.33  \n",
       "3    30083.33  \n",
       "4   233333.33  "
      ]
     },
     "execution_count": 162,
     "metadata": {},
     "output_type": "execute_result"
    }
   ],
   "source": [
    "df = pd.read_csv('housePrice.csv')\n",
    "df.head()"
   ]
  },
  {
   "cell_type": "code",
   "execution_count": 163,
   "metadata": {},
   "outputs": [],
   "source": [
    "#Removing outlier data\n",
    "indexNames = df[df['Area'].apply(lambda x: not x.isdigit())].index\n",
    "df.drop(indexNames , inplace=True)\n",
    "\n",
    "#Changing 'Area' column type\n",
    "df['Area'] = df['Area'].astype(np.float64)\n",
    "\n",
    "#Delete unnecessary data\n",
    "df.drop('Price(USD)', axis=1, inplace=True)\n",
    "nans = df['Address'].isna()\n",
    "df = df[~nans]"
   ]
  },
  {
   "cell_type": "code",
   "execution_count": 164,
   "metadata": {},
   "outputs": [
    {
     "name": "stdout",
     "output_type": "stream",
     "text": [
      "<class 'pandas.core.frame.DataFrame'>\n",
      "Int64Index: 3450 entries, 0 to 3478\n",
      "Data columns (total 7 columns):\n",
      " #   Column     Non-Null Count  Dtype  \n",
      "---  ------     --------------  -----  \n",
      " 0   Area       3450 non-null   float64\n",
      " 1   Room       3450 non-null   int64  \n",
      " 2   Parking    3450 non-null   bool   \n",
      " 3   Warehouse  3450 non-null   bool   \n",
      " 4   Elevator   3450 non-null   bool   \n",
      " 5   Address    3450 non-null   object \n",
      " 6   Price      3450 non-null   float64\n",
      "dtypes: bool(3), float64(2), int64(1), object(1)\n",
      "memory usage: 144.9+ KB\n"
     ]
    },
    {
     "data": {
      "text/html": [
       "<div>\n",
       "<style scoped>\n",
       "    .dataframe tbody tr th:only-of-type {\n",
       "        vertical-align: middle;\n",
       "    }\n",
       "\n",
       "    .dataframe tbody tr th {\n",
       "        vertical-align: top;\n",
       "    }\n",
       "\n",
       "    .dataframe thead th {\n",
       "        text-align: right;\n",
       "    }\n",
       "</style>\n",
       "<table border=\"1\" class=\"dataframe\">\n",
       "  <thead>\n",
       "    <tr style=\"text-align: right;\">\n",
       "      <th></th>\n",
       "      <th>Area</th>\n",
       "      <th>Room</th>\n",
       "      <th>Price</th>\n",
       "    </tr>\n",
       "  </thead>\n",
       "  <tbody>\n",
       "    <tr>\n",
       "      <th>count</th>\n",
       "      <td>3450.000000</td>\n",
       "      <td>3450.000000</td>\n",
       "      <td>3.450000e+03</td>\n",
       "    </tr>\n",
       "    <tr>\n",
       "      <th>mean</th>\n",
       "      <td>106.917391</td>\n",
       "      <td>2.081159</td>\n",
       "      <td>5.375563e+09</td>\n",
       "    </tr>\n",
       "    <tr>\n",
       "      <th>std</th>\n",
       "      <td>69.550976</td>\n",
       "      <td>0.760216</td>\n",
       "      <td>8.125918e+09</td>\n",
       "    </tr>\n",
       "    <tr>\n",
       "      <th>min</th>\n",
       "      <td>30.000000</td>\n",
       "      <td>0.000000</td>\n",
       "      <td>3.600000e+06</td>\n",
       "    </tr>\n",
       "    <tr>\n",
       "      <th>25%</th>\n",
       "      <td>69.000000</td>\n",
       "      <td>2.000000</td>\n",
       "      <td>1.419250e+09</td>\n",
       "    </tr>\n",
       "    <tr>\n",
       "      <th>50%</th>\n",
       "      <td>90.000000</td>\n",
       "      <td>2.000000</td>\n",
       "      <td>2.900000e+09</td>\n",
       "    </tr>\n",
       "    <tr>\n",
       "      <th>75%</th>\n",
       "      <td>120.000000</td>\n",
       "      <td>2.000000</td>\n",
       "      <td>6.000000e+09</td>\n",
       "    </tr>\n",
       "    <tr>\n",
       "      <th>max</th>\n",
       "      <td>929.000000</td>\n",
       "      <td>5.000000</td>\n",
       "      <td>9.240000e+10</td>\n",
       "    </tr>\n",
       "  </tbody>\n",
       "</table>\n",
       "</div>"
      ],
      "text/plain": [
       "              Area         Room         Price\n",
       "count  3450.000000  3450.000000  3.450000e+03\n",
       "mean    106.917391     2.081159  5.375563e+09\n",
       "std      69.550976     0.760216  8.125918e+09\n",
       "min      30.000000     0.000000  3.600000e+06\n",
       "25%      69.000000     2.000000  1.419250e+09\n",
       "50%      90.000000     2.000000  2.900000e+09\n",
       "75%     120.000000     2.000000  6.000000e+09\n",
       "max     929.000000     5.000000  9.240000e+10"
      ]
     },
     "execution_count": 164,
     "metadata": {},
     "output_type": "execute_result"
    }
   ],
   "source": [
    "df.info()\n",
    "df.describe()"
   ]
  },
  {
   "cell_type": "code",
   "execution_count": 169,
   "metadata": {},
   "outputs": [],
   "source": [
    "# Importing LabelEncoder from Sklearn\n",
    "# library from preprocessing Module.\n",
    "from sklearn.preprocessing import LabelEncoder\n",
    "\n",
    "# Creating a instance of label Encoder.\n",
    "le = LabelEncoder()\n",
    "\n",
    "# Using .fit_transform function to fit label\n",
    "# encoder and return encoded label\n",
    "#label = le.fit_transform(df['Address'])\n",
    "\n",
    "def f(address, df):\n",
    "    districtPrices = df[df['Address'] == address]['Price'].values\n",
    "    return districtPrices.sum()/districtPrices.size\n",
    "\n",
    "df1 = df['Address'].apply(f, df=df)\n",
    "df1.values\n",
    "\n",
    "\n",
    "# printing label\n",
    "df1 = pd.DataFrame(label, columns=['DistrictAvg'])\n",
    "df = pd.concat([df,df1],axis=1)\n",
    "df['Parking'] = df['Parking'].astype(bool)\n",
    "df['Warehouse'] = df['Warehouse'].astype(bool)\n",
    "df['Elevator'] = df['Elevator'].astype(bool)\n",
    "df.head()\n"
   ]
  },
  {
   "cell_type": "code",
   "execution_count": 166,
   "metadata": {},
   "outputs": [
    {
     "name": "stderr",
     "output_type": "stream",
     "text": [
      "/tmp/ipykernel_1892861/1941098767.py:1: FutureWarning: The default value of numeric_only in DataFrame.corr is deprecated. In a future version, it will default to False. Select only valid columns or specify the value of numeric_only to silence this warning.\n",
      "  df.corr()\n",
      "/tmp/ipykernel_1892861/1941098767.py:3: FutureWarning: The default value of numeric_only in DataFrame.corr is deprecated. In a future version, it will default to False. Select only valid columns or specify the value of numeric_only to silence this warning.\n",
      "  sns.heatmap(df.corr(),annot=True,cmap='Greens')\n"
     ]
    },
    {
     "data": {
      "image/png": "[encoded data removed]",
      "text/plain": [
       "<Figure size 1500x1000 with 2 Axes>"
      ]
     },
     "metadata": {},
     "output_type": "display_data"
    }
   ],
   "source": [
    "df.corr()\n",
    "plt.figure(figsize=(15,10))\n",
    "sns.heatmap(df.corr(),annot=True,cmap='Greens')\n",
    "plt.show()"
   ]
  },
  {
   "cell_type": "code",
   "execution_count": 57,
   "metadata": {},
   "outputs": [],
   "source": [
    "import numpy as np \n",
    "import pandas as pd \n",
    "import matplotlib.pyplot as plt\n",
    "from sklearn.linear_model import LinearRegression\n",
    "#import statsmodels.api as sm\n",
    "#import statsmodels.formula.api as smf\n",
    "import seaborn as sns\n",
    "from sklearn.preprocessing import scale \n",
    "from sklearn.model_selection import train_test_split, GridSearchCV, cross_val_score\n",
    "from sklearn.metrics import confusion_matrix, accuracy_score, classification_report\n",
    "from sklearn.metrics import roc_auc_score,roc_curve\n",
    "#import statsmodels.formula.api as smf\n",
    "from sklearn.linear_model import LogisticRegression\n",
    "from sklearn.metrics import mean_squared_error, r2_score"
   ]
  },
  {
   "cell_type": "code",
   "execution_count": 157,
   "metadata": {},
   "outputs": [
    {
     "data": {
      "image/png": "[encoded data removed]",
      "text/plain": [
       "<Figure size 640x480 with 1 Axes>"
      ]
     },
     "metadata": {},
     "output_type": "display_data"
    }
   ],
   "source": [
    "plt.scatter(df['Address'], df.Price, color='red')\n",
    "plt.ylabel('Price')\n",
    "plt.xlabel('Area')\n",
    "plt.show()"
   ]
  },
  {
   "cell_type": "code",
   "execution_count": 95,
   "metadata": {},
   "outputs": [],
   "source": [
    "#from sklearn.linear_model import LinearRegression\n",
    "\n",
    "x = df2.iloc[:, [0,1,2,3,4,7]].values                                  \n",
    "y = df2[\"Price\"].values.reshape(-1,1)"
   ]
  },
  {
   "cell_type": "code",
   "execution_count": 98,
   "metadata": {},
   "outputs": [],
   "source": [
    "from sklearn.preprocessing import PolynomialFeatures, StandardScaler\n",
    "std_scaler = StandardScaler().fit(x)\n",
    "x = std_scaler.transform(x)"
   ]
  },
  {
   "cell_type": "code",
   "execution_count": 104,
   "metadata": {},
   "outputs": [],
   "source": [
    "poly_transformer = PolynomialFeatures(degree=2)\n",
    "poly_transformer.fit(x_train)\n",
    "poly_features = poly_transformer.transform(x_train)"
   ]
  },
  {
   "cell_type": "code",
   "execution_count": 106,
   "metadata": {},
   "outputs": [
    {
     "name": "stderr",
     "output_type": "stream",
     "text": [
      "/run/media/cataphract/data/projects/ML_training/venv/lib/python3.10/site-packages/sklearn/utils/validation.py:1143: DataConversionWarning: A column-vector y was passed when a 1d array was expected. Please change the shape of y to (n_samples, ), for example using ravel().\n",
      "  y = column_or_1d(y, warn=True)\n",
      "/run/media/cataphract/data/projects/ML_training/venv/lib/python3.10/site-packages/sklearn/linear_model/_logistic.py:458: ConvergenceWarning: lbfgs failed to converge (status=1):\n",
      "STOP: TOTAL NO. of ITERATIONS REACHED LIMIT.\n",
      "\n",
      "Increase the number of iterations (max_iter) or scale the data as shown in:\n",
      "    https://scikit-learn.org/stable/modules/preprocessing.html\n",
      "Please also refer to the documentation for alternative solver options:\n",
      "    https://scikit-learn.org/stable/modules/linear_model.html#logistic-regression\n",
      "  n_iter_i = _check_optimize_result(\n"
     ]
    },
    {
     "data": {
      "text/html": [
       "<style>#sk-container-id-1 {color: black;background-color: white;}#sk-container-id-1 pre{padding: 0;}#sk-container-id-1 div.sk-toggleable {background-color: white;}#sk-container-id-1 label.sk-toggleable__label {cursor: pointer;display: block;width: 100%;margin-bottom: 0;padding: 0.3em;box-sizing: border-box;text-align: center;}#sk-container-id-1 label.sk-toggleable__label-arrow:before {content: \"▸\";float: left;margin-right: 0.25em;color: #696969;}#sk-container-id-1 label.sk-toggleable__label-arrow:hover:before {color: black;}#sk-container-id-1 div.sk-estimator:hover label.sk-toggleable__label-arrow:before {color: black;}#sk-container-id-1 div.sk-toggleable__content {max-height: 0;max-width: 0;overflow: hidden;text-align: left;background-color: #f0f8ff;}#sk-container-id-1 div.sk-toggleable__content pre {margin: 0.2em;color: black;border-radius: 0.25em;background-color: #f0f8ff;}#sk-container-id-1 input.sk-toggleable__control:checked~div.sk-toggleable__content {max-height: 200px;max-width: 100%;overflow: auto;}#sk-container-id-1 input.sk-toggleable__control:checked~label.sk-toggleable__label-arrow:before {content: \"▾\";}#sk-container-id-1 div.sk-estimator input.sk-toggleable__control:checked~label.sk-toggleable__label {background-color: #d4ebff;}#sk-container-id-1 div.sk-label input.sk-toggleable__control:checked~label.sk-toggleable__label {background-color: #d4ebff;}#sk-container-id-1 input.sk-hidden--visually {border: 0;clip: rect(1px 1px 1px 1px);clip: rect(1px, 1px, 1px, 1px);height: 1px;margin: -1px;overflow: hidden;padding: 0;position: absolute;width: 1px;}#sk-container-id-1 div.sk-estimator {font-family: monospace;background-color: #f0f8ff;border: 1px dotted black;border-radius: 0.25em;box-sizing: border-box;margin-bottom: 0.5em;}#sk-container-id-1 div.sk-estimator:hover {background-color: #d4ebff;}#sk-container-id-1 div.sk-parallel-item::after {content: \"\";width: 100%;border-bottom: 1px solid gray;flex-grow: 1;}#sk-container-id-1 div.sk-label:hover label.sk-toggleable__label {background-color: #d4ebff;}#sk-container-id-1 div.sk-serial::before {content: \"\";position: absolute;border-left: 1px solid gray;box-sizing: border-box;top: 0;bottom: 0;left: 50%;z-index: 0;}#sk-container-id-1 div.sk-serial {display: flex;flex-direction: column;align-items: center;background-color: white;padding-right: 0.2em;padding-left: 0.2em;position: relative;}#sk-container-id-1 div.sk-item {position: relative;z-index: 1;}#sk-container-id-1 div.sk-parallel {display: flex;align-items: stretch;justify-content: center;background-color: white;position: relative;}#sk-container-id-1 div.sk-item::before, #sk-container-id-1 div.sk-parallel-item::before {content: \"\";position: absolute;border-left: 1px solid gray;box-sizing: border-box;top: 0;bottom: 0;left: 50%;z-index: -1;}#sk-container-id-1 div.sk-parallel-item {display: flex;flex-direction: column;z-index: 1;position: relative;background-color: white;}#sk-container-id-1 div.sk-parallel-item:first-child::after {align-self: flex-end;width: 50%;}#sk-container-id-1 div.sk-parallel-item:last-child::after {align-self: flex-start;width: 50%;}#sk-container-id-1 div.sk-parallel-item:only-child::after {width: 0;}#sk-container-id-1 div.sk-dashed-wrapped {border: 1px dashed gray;margin: 0 0.4em 0.5em 0.4em;box-sizing: border-box;padding-bottom: 0.4em;background-color: white;}#sk-container-id-1 div.sk-label label {font-family: monospace;font-weight: bold;display: inline-block;line-height: 1.2em;}#sk-container-id-1 div.sk-label-container {text-align: center;}#sk-container-id-1 div.sk-container {/* jupyter's `normalize.less` sets `[hidden] { display: none; }` but bootstrap.min.css set `[hidden] { display: none !important; }` so we also need the `!important` here to be able to override the default hidden behavior on the sphinx rendered scikit-learn.org. See: https://github.com/scikit-learn/scikit-learn/issues/21755 */display: inline-block !important;position: relative;}#sk-container-id-1 div.sk-text-repr-fallback {display: none;}</style><div id=\"sk-container-id-1\" class=\"sk-top-container\"><div class=\"sk-text-repr-fallback\"><pre>LogisticRegression()</pre><b>In a Jupyter environment, please rerun this cell to show the HTML representation or trust the notebook. <br />On GitHub, the HTML representation is unable to render, please try loading this page with nbviewer.org.</b></div><div class=\"sk-container\" hidden><div class=\"sk-item\"><div class=\"sk-estimator sk-toggleable\"><input class=\"sk-toggleable__control sk-hidden--visually\" id=\"sk-estimator-id-1\" type=\"checkbox\" checked><label for=\"sk-estimator-id-1\" class=\"sk-toggleable__label sk-toggleable__label-arrow\">LogisticRegression</label><div class=\"sk-toggleable__content\"><pre>LogisticRegression()</pre></div></div></div></div></div>"
      ],
      "text/plain": [
       "LogisticRegression()"
      ]
     },
     "execution_count": 106,
     "metadata": {},
     "output_type": "execute_result"
    }
   ],
   "source": [
    "model = LogisticRegression()\n",
    "model.fit(poly_features, y_train)"
   ]
  },
  {
   "cell_type": "code",
   "execution_count": 99,
   "metadata": {},
   "outputs": [],
   "source": [
    "x_train, x_test, y_train, y_test = train_test_split(x, y, test_size = 0.20, random_state= 42)\n",
    "lm = LinearRegression()\n",
    "model = lm.fit(x_train,y_train)"
   ]
  },
  {
   "cell_type": "code",
   "execution_count": 110,
   "metadata": {},
   "outputs": [
    {
     "name": "stdout",
     "output_type": "stream",
     "text": [
      "[flaml.automl.automl: 03-04 00:23:39] {2726} INFO - task = regression\n",
      "[flaml.automl.automl: 03-04 00:23:39] {2728} INFO - Data split method: uniform\n",
      "[flaml.automl.automl: 03-04 00:23:39] {2731} INFO - Evaluation method: cv\n",
      "[flaml.automl.automl: 03-04 00:23:39] {2858} INFO - Minimizing error metric: 1-r2\n",
      "[flaml.automl.automl: 03-04 00:23:39] {3004} INFO - List of ML learners in AutoML Run: ['lgbm', 'rf', 'xgboost', 'extra_tree', 'xgb_limitdepth']\n",
      "[flaml.automl.automl: 03-04 00:23:39] {3334} INFO - iteration 0, current learner lgbm\n",
      "[flaml.automl.automl: 03-04 00:23:43] {3472} INFO - Estimated sufficient time budget=37138s. Estimated necessary time budget=262s.\n",
      "[flaml.automl.automl: 03-04 00:23:43] {3519} INFO -  at 3.8s,\testimator lgbm's best error=0.6742,\tbest estimator lgbm's best error=0.6742\n",
      "[flaml.automl.automl: 03-04 00:23:43] {3334} INFO - iteration 1, current learner lgbm\n",
      "[flaml.automl.automl: 03-04 00:23:48] {3519} INFO -  at 8.7s,\testimator lgbm's best error=0.6742,\tbest estimator lgbm's best error=0.6742\n",
      "[flaml.automl.automl: 03-04 00:23:48] {3334} INFO - iteration 2, current learner lgbm\n",
      "[flaml.automl.automl: 03-04 00:23:52] {3519} INFO -  at 13.1s,\testimator lgbm's best error=0.4722,\tbest estimator lgbm's best error=0.4722\n",
      "[flaml.automl.automl: 03-04 00:23:52] {3334} INFO - iteration 3, current learner xgboost\n",
      "[flaml.automl.automl: 03-04 00:23:55] {3519} INFO -  at 16.3s,\testimator xgboost's best error=0.8848,\tbest estimator lgbm's best error=0.4722\n",
      "[flaml.automl.automl: 03-04 00:23:55] {3334} INFO - iteration 4, current learner lgbm\n",
      "[flaml.automl.automl: 03-04 00:24:07] {3519} INFO -  at 28.1s,\testimator lgbm's best error=0.3996,\tbest estimator lgbm's best error=0.3996\n",
      "[flaml.automl.automl: 03-04 00:24:07] {3334} INFO - iteration 5, current learner xgboost\n",
      "[flaml.automl.automl: 03-04 00:24:11] {3519} INFO -  at 31.7s,\testimator xgboost's best error=0.8848,\tbest estimator lgbm's best error=0.3996\n",
      "[flaml.automl.automl: 03-04 00:24:11] {3334} INFO - iteration 6, current learner extra_tree\n",
      "[flaml.automl.automl: 03-04 00:24:11] {3519} INFO -  at 32.1s,\testimator extra_tree's best error=0.5510,\tbest estimator lgbm's best error=0.3996\n",
      "[flaml.automl.automl: 03-04 00:24:11] {3334} INFO - iteration 7, current learner extra_tree\n",
      "[flaml.automl.automl: 03-04 00:24:12] {3519} INFO -  at 32.6s,\testimator extra_tree's best error=0.4349,\tbest estimator lgbm's best error=0.3996\n",
      "[flaml.automl.automl: 03-04 00:24:12] {3334} INFO - iteration 8, current learner extra_tree\n",
      "[flaml.automl.automl: 03-04 00:24:12] {3519} INFO -  at 33.2s,\testimator extra_tree's best error=0.4349,\tbest estimator lgbm's best error=0.3996\n",
      "[flaml.automl.automl: 03-04 00:24:12] {3334} INFO - iteration 9, current learner extra_tree\n",
      "[flaml.automl.automl: 03-04 00:24:13] {3519} INFO -  at 33.9s,\testimator extra_tree's best error=0.4139,\tbest estimator lgbm's best error=0.3996\n",
      "[flaml.automl.automl: 03-04 00:24:13] {3334} INFO - iteration 10, current learner extra_tree\n",
      "[flaml.automl.automl: 03-04 00:24:13] {3519} INFO -  at 34.5s,\testimator extra_tree's best error=0.4139,\tbest estimator lgbm's best error=0.3996\n",
      "[flaml.automl.automl: 03-04 00:24:13] {3334} INFO - iteration 11, current learner extra_tree\n",
      "[flaml.automl.automl: 03-04 00:24:14] {3519} INFO -  at 35.1s,\testimator extra_tree's best error=0.4139,\tbest estimator lgbm's best error=0.3996\n",
      "[flaml.automl.automl: 03-04 00:24:14] {3334} INFO - iteration 12, current learner extra_tree\n",
      "[flaml.automl.automl: 03-04 00:24:15] {3519} INFO -  at 35.6s,\testimator extra_tree's best error=0.4139,\tbest estimator lgbm's best error=0.3996\n",
      "[flaml.automl.automl: 03-04 00:24:15] {3334} INFO - iteration 13, current learner xgboost\n",
      "[flaml.automl.automl: 03-04 00:24:19] {3519} INFO -  at 40.1s,\testimator xgboost's best error=0.5319,\tbest estimator lgbm's best error=0.3996\n",
      "[flaml.automl.automl: 03-04 00:24:19] {3334} INFO - iteration 14, current learner extra_tree\n",
      "[flaml.automl.automl: 03-04 00:24:20] {3519} INFO -  at 41.0s,\testimator extra_tree's best error=0.4139,\tbest estimator lgbm's best error=0.3996\n",
      "[flaml.automl.automl: 03-04 00:24:20] {3334} INFO - iteration 15, current learner lgbm\n",
      "[flaml.automl.automl: 03-04 00:24:26] {3519} INFO -  at 47.3s,\testimator lgbm's best error=0.3996,\tbest estimator lgbm's best error=0.3996\n",
      "[flaml.automl.automl: 03-04 00:24:26] {3334} INFO - iteration 16, current learner extra_tree\n",
      "[flaml.automl.automl: 03-04 00:24:27] {3519} INFO -  at 48.3s,\testimator extra_tree's best error=0.4016,\tbest estimator lgbm's best error=0.3996\n",
      "[flaml.automl.automl: 03-04 00:24:27] {3334} INFO - iteration 17, current learner xgboost\n",
      "[flaml.automl.automl: 03-04 00:24:33] {3519} INFO -  at 53.8s,\testimator xgboost's best error=0.5251,\tbest estimator lgbm's best error=0.3996\n",
      "[flaml.automl.automl: 03-04 00:24:33] {3334} INFO - iteration 18, current learner extra_tree\n",
      "[flaml.automl.automl: 03-04 00:24:34] {3519} INFO -  at 54.7s,\testimator extra_tree's best error=0.4016,\tbest estimator lgbm's best error=0.3996\n",
      "[flaml.automl.automl: 03-04 00:24:34] {3334} INFO - iteration 19, current learner extra_tree\n",
      "[flaml.automl.automl: 03-04 00:24:36] {3519} INFO -  at 56.9s,\testimator extra_tree's best error=0.4016,\tbest estimator lgbm's best error=0.3996\n",
      "[flaml.automl.automl: 03-04 00:24:36] {3334} INFO - iteration 20, current learner extra_tree\n",
      "[flaml.automl.automl: 03-04 00:24:37] {3519} INFO -  at 57.7s,\testimator extra_tree's best error=0.4016,\tbest estimator lgbm's best error=0.3996\n",
      "[flaml.automl.automl: 03-04 00:24:37] {3334} INFO - iteration 21, current learner extra_tree\n",
      "[flaml.automl.automl: 03-04 00:24:39] {3519} INFO -  at 59.9s,\testimator extra_tree's best error=0.3940,\tbest estimator extra_tree's best error=0.3940\n",
      "[flaml.automl.automl: 03-04 00:24:39] {3334} INFO - iteration 22, current learner rf\n",
      "[flaml.automl.automl: 03-04 00:24:39] {3519} INFO -  at 60.1s,\testimator rf's best error=0.5248,\tbest estimator extra_tree's best error=0.3940\n",
      "[flaml.automl.automl: 03-04 00:24:39] {3783} INFO - retrain extra_tree for 0.4s\n",
      "[flaml.automl.automl: 03-04 00:24:39] {3790} INFO - retrained model: ExtraTreesRegressor(max_features=0.7148567019921337, max_leaf_nodes=67,\n",
      "                    n_estimators=28, n_jobs=-1, random_state=12032022)\n",
      "[flaml.automl.automl: 03-04 00:24:39] {3034} INFO - fit succeeded\n",
      "[flaml.automl.automl: 03-04 00:24:39] {3035} INFO - Time taken to find the best model: 59.92075753211975\n"
     ]
    }
   ],
   "source": [
    "from flaml import AutoML\n",
    "automl = AutoML(task='regression', time_budget=60)\n",
    "automl.fit(x_train, y_train)\n"
   ]
  },
  {
   "cell_type": "code",
   "execution_count": 111,
   "metadata": {},
   "outputs": [
    {
     "data": {
      "text/plain": [
       "0.7393530807518969"
      ]
     },
     "execution_count": 111,
     "metadata": {},
     "output_type": "execute_result"
    }
   ],
   "source": [
    "y_pred = automl.predict(x_test)\n",
    "r2_score(y_test, y_pred)"
   ]
  },
  {
   "cell_type": "markdown",
   "metadata": {},
   "source": []
  },
  {
   "cell_type": "code",
   "execution_count": 107,
   "metadata": {},
   "outputs": [
    {
     "ename": "ValueError",
     "evalue": "X has 6 features, but LogisticRegression is expecting 28 features as input.",
     "output_type": "error",
     "traceback": [
      "\u001b[0;31m---------------------------------------------------------------------------\u001b[0m",
      "\u001b[0;31mValueError\u001b[0m                                Traceback (most recent call last)",
      "Cell \u001b[0;32mIn[107], line 1\u001b[0m\n\u001b[0;32m----> 1\u001b[0m \u001b[43mmodel\u001b[49m\u001b[38;5;241;43m.\u001b[39;49m\u001b[43mscore\u001b[49m\u001b[43m(\u001b[49m\u001b[43mx_train\u001b[49m\u001b[43m,\u001b[49m\u001b[43m \u001b[49m\u001b[43my_train\u001b[49m\u001b[43m)\u001b[49m\n",
      "File \u001b[0;32m/run/media/cataphract/data/projects/ML_training/venv/lib/python3.10/site-packages/sklearn/base.py:649\u001b[0m, in \u001b[0;36mClassifierMixin.score\u001b[0;34m(self, X, y, sample_weight)\u001b[0m\n\u001b[1;32m    <a href='file:///run/media/cataphract/data/projects/ML_training/venv/lib/python3.10/site-packages/sklearn/base.py?line=623'>624</a>\u001b[0m \u001b[39m\u001b[39m\u001b[39m\"\"\"\u001b[39;00m\n\u001b[1;32m    <a href='file:///run/media/cataphract/data/projects/ML_training/venv/lib/python3.10/site-packages/sklearn/base.py?line=624'>625</a>\u001b[0m \u001b[39mReturn the mean accuracy on the given test data and labels.\u001b[39;00m\n\u001b[1;32m    <a href='file:///run/media/cataphract/data/projects/ML_training/venv/lib/python3.10/site-packages/sklearn/base.py?line=625'>626</a>\u001b[0m \n\u001b[0;32m   (...)\u001b[0m\n\u001b[1;32m    <a href='file:///run/media/cataphract/data/projects/ML_training/venv/lib/python3.10/site-packages/sklearn/base.py?line=644'>645</a>\u001b[0m \u001b[39m    Mean accuracy of ``self.predict(X)`` wrt. `y`.\u001b[39;00m\n\u001b[1;32m    <a href='file:///run/media/cataphract/data/projects/ML_training/venv/lib/python3.10/site-packages/sklearn/base.py?line=645'>646</a>\u001b[0m \u001b[39m\"\"\"\u001b[39;00m\n\u001b[1;32m    <a href='file:///run/media/cataphract/data/projects/ML_training/venv/lib/python3.10/site-packages/sklearn/base.py?line=646'>647</a>\u001b[0m \u001b[39mfrom\u001b[39;00m \u001b[39m.\u001b[39;00m\u001b[39mmetrics\u001b[39;00m \u001b[39mimport\u001b[39;00m accuracy_score\n\u001b[0;32m--> <a href='file:///run/media/cataphract/data/projects/ML_training/venv/lib/python3.10/site-packages/sklearn/base.py?line=648'>649</a>\u001b[0m \u001b[39mreturn\u001b[39;00m accuracy_score(y, \u001b[39mself\u001b[39;49m\u001b[39m.\u001b[39;49mpredict(X), sample_weight\u001b[39m=\u001b[39msample_weight)\n",
      "File \u001b[0;32m/run/media/cataphract/data/projects/ML_training/venv/lib/python3.10/site-packages/sklearn/linear_model/_base.py:419\u001b[0m, in \u001b[0;36mLinearClassifierMixin.predict\u001b[0;34m(self, X)\u001b[0m\n\u001b[1;32m    <a href='file:///run/media/cataphract/data/projects/ML_training/venv/lib/python3.10/site-packages/sklearn/linear_model/_base.py?line=404'>405</a>\u001b[0m \u001b[39m\u001b[39m\u001b[39m\"\"\"\u001b[39;00m\n\u001b[1;32m    <a href='file:///run/media/cataphract/data/projects/ML_training/venv/lib/python3.10/site-packages/sklearn/linear_model/_base.py?line=405'>406</a>\u001b[0m \u001b[39mPredict class labels for samples in X.\u001b[39;00m\n\u001b[1;32m    <a href='file:///run/media/cataphract/data/projects/ML_training/venv/lib/python3.10/site-packages/sklearn/linear_model/_base.py?line=406'>407</a>\u001b[0m \n\u001b[0;32m   (...)\u001b[0m\n\u001b[1;32m    <a href='file:///run/media/cataphract/data/projects/ML_training/venv/lib/python3.10/site-packages/sklearn/linear_model/_base.py?line=415'>416</a>\u001b[0m \u001b[39m    Vector containing the class labels for each sample.\u001b[39;00m\n\u001b[1;32m    <a href='file:///run/media/cataphract/data/projects/ML_training/venv/lib/python3.10/site-packages/sklearn/linear_model/_base.py?line=416'>417</a>\u001b[0m \u001b[39m\"\"\"\u001b[39;00m\n\u001b[1;32m    <a href='file:///run/media/cataphract/data/projects/ML_training/venv/lib/python3.10/site-packages/sklearn/linear_model/_base.py?line=417'>418</a>\u001b[0m xp, _ \u001b[39m=\u001b[39m get_namespace(X)\n\u001b[0;32m--> <a href='file:///run/media/cataphract/data/projects/ML_training/venv/lib/python3.10/site-packages/sklearn/linear_model/_base.py?line=418'>419</a>\u001b[0m scores \u001b[39m=\u001b[39m \u001b[39mself\u001b[39;49m\u001b[39m.\u001b[39;49mdecision_function(X)\n\u001b[1;32m    <a href='file:///run/media/cataphract/data/projects/ML_training/venv/lib/python3.10/site-packages/sklearn/linear_model/_base.py?line=419'>420</a>\u001b[0m \u001b[39mif\u001b[39;00m \u001b[39mlen\u001b[39m(scores\u001b[39m.\u001b[39mshape) \u001b[39m==\u001b[39m \u001b[39m1\u001b[39m:\n\u001b[1;32m    <a href='file:///run/media/cataphract/data/projects/ML_training/venv/lib/python3.10/site-packages/sklearn/linear_model/_base.py?line=420'>421</a>\u001b[0m     indices \u001b[39m=\u001b[39m xp\u001b[39m.\u001b[39mastype(scores \u001b[39m>\u001b[39m \u001b[39m0\u001b[39m, \u001b[39mint\u001b[39m)\n",
      "File \u001b[0;32m/run/media/cataphract/data/projects/ML_training/venv/lib/python3.10/site-packages/sklearn/linear_model/_base.py:400\u001b[0m, in \u001b[0;36mLinearClassifierMixin.decision_function\u001b[0;34m(self, X)\u001b[0m\n\u001b[1;32m    <a href='file:///run/media/cataphract/data/projects/ML_training/venv/lib/python3.10/site-packages/sklearn/linear_model/_base.py?line=396'>397</a>\u001b[0m check_is_fitted(\u001b[39mself\u001b[39m)\n\u001b[1;32m    <a href='file:///run/media/cataphract/data/projects/ML_training/venv/lib/python3.10/site-packages/sklearn/linear_model/_base.py?line=397'>398</a>\u001b[0m xp, _ \u001b[39m=\u001b[39m get_namespace(X)\n\u001b[0;32m--> <a href='file:///run/media/cataphract/data/projects/ML_training/venv/lib/python3.10/site-packages/sklearn/linear_model/_base.py?line=399'>400</a>\u001b[0m X \u001b[39m=\u001b[39m \u001b[39mself\u001b[39;49m\u001b[39m.\u001b[39;49m_validate_data(X, accept_sparse\u001b[39m=\u001b[39;49m\u001b[39m\"\u001b[39;49m\u001b[39mcsr\u001b[39;49m\u001b[39m\"\u001b[39;49m, reset\u001b[39m=\u001b[39;49m\u001b[39mFalse\u001b[39;49;00m)\n\u001b[1;32m    <a href='file:///run/media/cataphract/data/projects/ML_training/venv/lib/python3.10/site-packages/sklearn/linear_model/_base.py?line=400'>401</a>\u001b[0m scores \u001b[39m=\u001b[39m safe_sparse_dot(X, \u001b[39mself\u001b[39m\u001b[39m.\u001b[39mcoef_\u001b[39m.\u001b[39mT, dense_output\u001b[39m=\u001b[39m\u001b[39mTrue\u001b[39;00m) \u001b[39m+\u001b[39m \u001b[39mself\u001b[39m\u001b[39m.\u001b[39mintercept_\n\u001b[1;32m    <a href='file:///run/media/cataphract/data/projects/ML_training/venv/lib/python3.10/site-packages/sklearn/linear_model/_base.py?line=401'>402</a>\u001b[0m \u001b[39mreturn\u001b[39;00m xp\u001b[39m.\u001b[39mreshape(scores, \u001b[39m-\u001b[39m\u001b[39m1\u001b[39m) \u001b[39mif\u001b[39;00m scores\u001b[39m.\u001b[39mshape[\u001b[39m1\u001b[39m] \u001b[39m==\u001b[39m \u001b[39m1\u001b[39m \u001b[39melse\u001b[39;00m scores\n",
      "File \u001b[0;32m/run/media/cataphract/data/projects/ML_training/venv/lib/python3.10/site-packages/sklearn/base.py:569\u001b[0m, in \u001b[0;36mBaseEstimator._validate_data\u001b[0;34m(self, X, y, reset, validate_separately, **check_params)\u001b[0m\n\u001b[1;32m    <a href='file:///run/media/cataphract/data/projects/ML_training/venv/lib/python3.10/site-packages/sklearn/base.py?line=565'>566</a>\u001b[0m     out \u001b[39m=\u001b[39m X, y\n\u001b[1;32m    <a href='file:///run/media/cataphract/data/projects/ML_training/venv/lib/python3.10/site-packages/sklearn/base.py?line=567'>568</a>\u001b[0m \u001b[39mif\u001b[39;00m \u001b[39mnot\u001b[39;00m no_val_X \u001b[39mand\u001b[39;00m check_params\u001b[39m.\u001b[39mget(\u001b[39m\"\u001b[39m\u001b[39mensure_2d\u001b[39m\u001b[39m\"\u001b[39m, \u001b[39mTrue\u001b[39;00m):\n\u001b[0;32m--> <a href='file:///run/media/cataphract/data/projects/ML_training/venv/lib/python3.10/site-packages/sklearn/base.py?line=568'>569</a>\u001b[0m     \u001b[39mself\u001b[39;49m\u001b[39m.\u001b[39;49m_check_n_features(X, reset\u001b[39m=\u001b[39;49mreset)\n\u001b[1;32m    <a href='file:///run/media/cataphract/data/projects/ML_training/venv/lib/python3.10/site-packages/sklearn/base.py?line=570'>571</a>\u001b[0m \u001b[39mreturn\u001b[39;00m out\n",
      "File \u001b[0;32m/run/media/cataphract/data/projects/ML_training/venv/lib/python3.10/site-packages/sklearn/base.py:370\u001b[0m, in \u001b[0;36mBaseEstimator._check_n_features\u001b[0;34m(self, X, reset)\u001b[0m\n\u001b[1;32m    <a href='file:///run/media/cataphract/data/projects/ML_training/venv/lib/python3.10/site-packages/sklearn/base.py?line=366'>367</a>\u001b[0m     \u001b[39mreturn\u001b[39;00m\n\u001b[1;32m    <a href='file:///run/media/cataphract/data/projects/ML_training/venv/lib/python3.10/site-packages/sklearn/base.py?line=368'>369</a>\u001b[0m \u001b[39mif\u001b[39;00m n_features \u001b[39m!=\u001b[39m \u001b[39mself\u001b[39m\u001b[39m.\u001b[39mn_features_in_:\n\u001b[0;32m--> <a href='file:///run/media/cataphract/data/projects/ML_training/venv/lib/python3.10/site-packages/sklearn/base.py?line=369'>370</a>\u001b[0m     \u001b[39mraise\u001b[39;00m \u001b[39mValueError\u001b[39;00m(\n\u001b[1;32m    <a href='file:///run/media/cataphract/data/projects/ML_training/venv/lib/python3.10/site-packages/sklearn/base.py?line=370'>371</a>\u001b[0m         \u001b[39mf\u001b[39m\u001b[39m\"\u001b[39m\u001b[39mX has \u001b[39m\u001b[39m{\u001b[39;00mn_features\u001b[39m}\u001b[39;00m\u001b[39m features, but \u001b[39m\u001b[39m{\u001b[39;00m\u001b[39mself\u001b[39m\u001b[39m.\u001b[39m\u001b[39m__class__\u001b[39m\u001b[39m.\u001b[39m\u001b[39m__name__\u001b[39m\u001b[39m}\u001b[39;00m\u001b[39m \u001b[39m\u001b[39m\"\u001b[39m\n\u001b[1;32m    <a href='file:///run/media/cataphract/data/projects/ML_training/venv/lib/python3.10/site-packages/sklearn/base.py?line=371'>372</a>\u001b[0m         \u001b[39mf\u001b[39m\u001b[39m\"\u001b[39m\u001b[39mis expecting \u001b[39m\u001b[39m{\u001b[39;00m\u001b[39mself\u001b[39m\u001b[39m.\u001b[39mn_features_in_\u001b[39m}\u001b[39;00m\u001b[39m features as input.\u001b[39m\u001b[39m\"\u001b[39m\n\u001b[1;32m    <a href='file:///run/media/cataphract/data/projects/ML_training/venv/lib/python3.10/site-packages/sklearn/base.py?line=372'>373</a>\u001b[0m     )\n",
      "\u001b[0;31mValueError\u001b[0m: X has 6 features, but LogisticRegression is expecting 28 features as input."
     ]
    }
   ],
   "source": [
    "model.score(x_train, y_train)\n"
   ]
  },
  {
   "cell_type": "code",
   "execution_count": 82,
   "metadata": {},
   "outputs": [
    {
     "name": "stdout",
     "output_type": "stream",
     "text": [
      "<class 'pandas.core.frame.DataFrame'>\n",
      "Int64Index: 3479 entries, 0 to 2802\n",
      "Data columns (total 8 columns):\n",
      " #   Column     Non-Null Count  Dtype  \n",
      "---  ------     --------------  -----  \n",
      " 0   Area       3473 non-null   float64\n",
      " 1   Room       3473 non-null   float64\n",
      " 2   Parking    3473 non-null   object \n",
      " 3   Warehouse  3473 non-null   object \n",
      " 4   Elevator   3473 non-null   object \n",
      " 5   Address    3450 non-null   object \n",
      " 6   Price      3473 non-null   float64\n",
      " 7   addLabel   3473 non-null   float64\n",
      "dtypes: float64(4), object(4)\n",
      "memory usage: 244.6+ KB\n"
     ]
    }
   ],
   "source": [
    "df.info()"
   ]
  },
  {
   "cell_type": "code",
   "execution_count": 88,
   "metadata": {},
   "outputs": [
    {
     "name": "stdout",
     "output_type": "stream",
     "text": [
      "<class 'pandas.core.frame.DataFrame'>\n",
      "Int64Index: 3450 entries, 0 to 3478\n",
      "Data columns (total 8 columns):\n",
      " #   Column     Non-Null Count  Dtype  \n",
      "---  ------     --------------  -----  \n",
      " 0   Area       3450 non-null   float64\n",
      " 1   Room       3450 non-null   float64\n",
      " 2   Parking    3450 non-null   object \n",
      " 3   Warehouse  3450 non-null   object \n",
      " 4   Elevator   3450 non-null   object \n",
      " 5   Address    3450 non-null   object \n",
      " 6   Price      3450 non-null   float64\n",
      " 7   addLabel   3444 non-null   float64\n",
      "dtypes: float64(4), object(4)\n",
      "memory usage: 242.6+ KB\n"
     ]
    }
   ],
   "source": [
    "nans = df['Address'].isna()\n",
    "df1 = df[~nans]\n",
    "df1.info()"
   ]
  },
  {
   "cell_type": "code",
   "execution_count": 90,
   "metadata": {},
   "outputs": [
    {
     "name": "stdout",
     "output_type": "stream",
     "text": [
      "<class 'pandas.core.frame.DataFrame'>\n",
      "Int64Index: 3444 entries, 0 to 3472\n",
      "Data columns (total 8 columns):\n",
      " #   Column     Non-Null Count  Dtype  \n",
      "---  ------     --------------  -----  \n",
      " 0   Area       3444 non-null   float64\n",
      " 1   Room       3444 non-null   float64\n",
      " 2   Parking    3444 non-null   object \n",
      " 3   Warehouse  3444 non-null   object \n",
      " 4   Elevator   3444 non-null   object \n",
      " 5   Address    3444 non-null   object \n",
      " 6   Price      3444 non-null   float64\n",
      " 7   addLabel   3444 non-null   float64\n",
      "dtypes: float64(4), object(4)\n",
      "memory usage: 242.2+ KB\n"
     ]
    }
   ],
   "source": [
    "nans = df1['addLabel'].isna()\n",
    "df2 = df1[~nans]\n",
    "df2.info()"
   ]
  },
  {
   "cell_type": "code",
   "execution_count": 92,
   "metadata": {},
   "outputs": [
    {
     "name": "stdout",
     "output_type": "stream",
     "text": [
      "<class 'pandas.core.frame.DataFrame'>\n",
      "Int64Index: 3444 entries, 0 to 3472\n",
      "Data columns (total 8 columns):\n",
      " #   Column     Non-Null Count  Dtype  \n",
      "---  ------     --------------  -----  \n",
      " 0   Area       3444 non-null   float64\n",
      " 1   Room       3444 non-null   float64\n",
      " 2   Parking    3444 non-null   bool   \n",
      " 3   Warehouse  3444 non-null   bool   \n",
      " 4   Elevator   3444 non-null   bool   \n",
      " 5   Address    3444 non-null   object \n",
      " 6   Price      3444 non-null   float64\n",
      " 7   addLabel   3444 non-null   float64\n",
      "dtypes: bool(3), float64(4), object(1)\n",
      "memory usage: 171.5+ KB\n"
     ]
    },
    {
     "name": "stderr",
     "output_type": "stream",
     "text": [
      "/tmp/ipykernel_1892861/3725862547.py:1: SettingWithCopyWarning: \n",
      "A value is trying to be set on a copy of a slice from a DataFrame.\n",
      "Try using .loc[row_indexer,col_indexer] = value instead\n",
      "\n",
      "See the caveats in the documentation: https://pandas.pydata.org/pandas-docs/stable/user_guide/indexing.html#returning-a-view-versus-a-copy\n",
      "  df2['Parking'] = df2['Parking'].astype(bool)\n",
      "/tmp/ipykernel_1892861/3725862547.py:2: SettingWithCopyWarning: \n",
      "A value is trying to be set on a copy of a slice from a DataFrame.\n",
      "Try using .loc[row_indexer,col_indexer] = value instead\n",
      "\n",
      "See the caveats in the documentation: https://pandas.pydata.org/pandas-docs/stable/user_guide/indexing.html#returning-a-view-versus-a-copy\n",
      "  df2['Warehouse'] = df2['Warehouse'].astype(bool)\n",
      "/tmp/ipykernel_1892861/3725862547.py:3: SettingWithCopyWarning: \n",
      "A value is trying to be set on a copy of a slice from a DataFrame.\n",
      "Try using .loc[row_indexer,col_indexer] = value instead\n",
      "\n",
      "See the caveats in the documentation: https://pandas.pydata.org/pandas-docs/stable/user_guide/indexing.html#returning-a-view-versus-a-copy\n",
      "  df2['Elevator'] = df2['Elevator'].astype(bool)\n"
     ]
    }
   ],
   "source": [
    "df2['Parking'] = df2['Parking'].astype(bool)\n",
    "df2['Warehouse'] = df2['Warehouse'].astype(bool)\n",
    "df2['Elevator'] = df2['Elevator'].astype(bool)\n",
    "df2.info()"
   ]
  },
  {
   "cell_type": "code",
   "execution_count": null,
   "metadata": {},
   "outputs": [],
   "source": []
  }
 ],
 "metadata": {
  "interpreter": {
   "hash": "dc48ff36503375883e7c88e53a8cae3d8ce2ddebac1a457ece2851ad21fd2721"
  },
  "kernelspec": {
   "display_name": "Python 3.10.4 ('venv': venv)",
   "language": "python",
   "name": "python3"
  },
  "language_info": {
   "codemirror_mode": {
    "name": "ipython",
    "version": 3
   },
   "file_extension": ".py",
   "mimetype": "text/x-python",
   "name": "python",
   "nbconvert_exporter": "python",
   "pygments_lexer": "ipython3",
   "version": "3.10.4"
  },
  "orig_nbformat": 4
 },
 "nbformat": 4,
 "nbformat_minor": 2
}
